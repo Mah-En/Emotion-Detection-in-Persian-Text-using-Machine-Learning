{
 "cells": [
  {
   "cell_type": "code",
   "execution_count": null,
   "id": "f5e7d82e-b42b-4081-88c4-d76ff1284c30",
   "metadata": {},
   "outputs": [],
   "source": []
  },
  {
   "cell_type": "code",
   "execution_count": 1,
   "id": "5c822875-73b4-458d-a219-e335bc6736e5",
   "metadata": {},
   "outputs": [],
   "source": [
    "import pandas as pd\n",
    "from sklearn.model_selection import train_test_split, GridSearchCV, cross_val_score, StratifiedKFold\n",
    "from sklearn.feature_extraction.text import TfidfVectorizer\n",
    "from sklearn.tree import DecisionTreeClassifier\n",
    "from sklearn.ensemble import RandomForestClassifier, GradientBoostingClassifier\n",
    "from sklearn.metrics import classification_report, confusion_matrix, accuracy_score\n"
   ]
  },
  {
   "cell_type": "code",
   "execution_count": 2,
   "id": "9e09eeee-e9d3-43cd-bb8f-975e0ef63956",
   "metadata": {},
   "outputs": [],
   "source": [
    "\n",
    "# Load dataset\n",
    "df = pd.read_csv('train_data.csv')\n",
    "\n",
    "# Data Cleaning\n",
    "def clean_text(text):\n",
    "    # Implement text cleaning\n",
    "    return text\n",
    "df['text']=df.iloc[:,0]\n",
    "df['label']=df.iloc[:,1]\n",
    "df['cleaned_text'] = df['text'].apply(clean_text)\n"
   ]
  },
  {
   "cell_type": "code",
   "execution_count": 3,
   "id": "7062593c-6df6-4a67-80c0-9127b0e81378",
   "metadata": {},
   "outputs": [],
   "source": [
    "\n",
    "# Feature Engineering\n",
    "vectorizer = TfidfVectorizer()\n",
    "X = vectorizer.fit_transform(df['cleaned_text'])\n",
    "y = df['label']\n",
    "\n",
    "# Train-test split\n",
    "X_train, X_test, y_train, y_test = train_test_split(X, y, test_size=0.2, random_state=42)\n"
   ]
  },
  {
   "cell_type": "code",
   "execution_count": 4,
   "id": "0963a568-97a7-4f53-b8c5-3ef7fcc4ce68",
   "metadata": {},
   "outputs": [],
   "source": [
    "\n",
    "# Model Training and Tuning\n",
    "def train_model(model, param_grid):\n",
    "    grid_search = GridSearchCV(model, param_grid, cv=5, scoring='accuracy')\n",
    "    grid_search.fit(X_train, y_train)\n",
    "    return grid_search.best_estimator_\n",
    "\n"
   ]
  },
  {
   "cell_type": "code",
   "execution_count": 5,
   "id": "c8571e8f-5091-47ae-914f-43eef1b39cc8",
   "metadata": {},
   "outputs": [],
   "source": [
    "\n",
    "# Decision Tree\n",
    "dt_param_grid = {'max_depth': [10, 20, 30]}\n",
    "dt_model = train_model(DecisionTreeClassifier(), dt_param_grid)\n",
    "\n"
   ]
  },
  {
   "cell_type": "code",
   "execution_count": 6,
   "id": "4ba99cfa-6935-4976-985a-606a7f994557",
   "metadata": {},
   "outputs": [],
   "source": [
    "\n",
    "# Random Forest\n",
    "rf_param_grid = {'n_estimators': [100, 200], 'max_depth': [10, 20]}\n",
    "rf_model = train_model(RandomForestClassifier(), rf_param_grid)\n"
   ]
  },
  {
   "cell_type": "code",
   "execution_count": 7,
   "id": "f0be9b1b-a04a-497a-b0c3-c6e39903afdc",
   "metadata": {},
   "outputs": [],
   "source": [
    "\n",
    "# Gradient Boosting\n",
    "gb_param_grid = {'n_estimators': [100, 200], 'learning_rate': [0.1, 0.01]}\n",
    "gb_model = train_model(GradientBoostingClassifier(), gb_param_grid)\n"
   ]
  },
  {
   "cell_type": "code",
   "execution_count": 11,
   "id": "9a4995a1-a7dc-42b6-9c78-6a57e1fc787d",
   "metadata": {},
   "outputs": [
    {
     "name": "stdout",
     "output_type": "stream",
     "text": [
      "Decision Tree Accuracy: 0.5248730964467005\n",
      "              precision    recall  f1-score   support\n",
      "\n",
      "       ANGRY       0.55      0.24      0.34       185\n",
      "        FEAR       0.56      0.36      0.44        66\n",
      "       HAPPY       0.89      0.62      0.73       306\n",
      "       OTHER       0.39      0.82      0.53       267\n",
      "         SAD       0.47      0.25      0.32       161\n",
      "\n",
      "    accuracy                           0.52       985\n",
      "   macro avg       0.57      0.46      0.47       985\n",
      "weighted avg       0.60      0.52      0.52       985\n",
      "\n",
      "[[ 45   5  10 112  13]\n",
      " [  3  24   1  34   4]\n",
      " [  9   3 190  98   6]\n",
      " [ 11   8   7 218  23]\n",
      " [ 14   3   6  98  40]]\n",
      "Random Forest Accuracy: 0.5208121827411167\n",
      "              precision    recall  f1-score   support\n",
      "\n",
      "       ANGRY       0.73      0.19      0.30       185\n",
      "        FEAR       0.00      0.00      0.00        66\n",
      "       HAPPY       0.70      0.75      0.73       306\n",
      "       OTHER       0.40      0.88      0.55       267\n",
      "         SAD       0.74      0.09      0.16       161\n",
      "\n",
      "    accuracy                           0.52       985\n",
      "   macro avg       0.51      0.38      0.35       985\n",
      "weighted avg       0.58      0.52      0.46       985\n",
      "\n",
      "[[ 35   0  38 111   1]\n",
      " [  1   0  13  52   0]\n",
      " [  3   0 229  73   1]\n",
      " [  5   0  24 235   3]\n",
      " [  4   0  21 122  14]]\n"
     ]
    },
    {
     "name": "stderr",
     "output_type": "stream",
     "text": [
      "D:\\Uni\\Term 4\\Machine learning\\qenv\\lib\\site-packages\\sklearn\\metrics\\_classification.py:1517: UndefinedMetricWarning: Precision is ill-defined and being set to 0.0 in labels with no predicted samples. Use `zero_division` parameter to control this behavior.\n",
      "  _warn_prf(average, modifier, f\"{metric.capitalize()} is\", len(result))\n",
      "D:\\Uni\\Term 4\\Machine learning\\qenv\\lib\\site-packages\\sklearn\\metrics\\_classification.py:1517: UndefinedMetricWarning: Precision is ill-defined and being set to 0.0 in labels with no predicted samples. Use `zero_division` parameter to control this behavior.\n",
      "  _warn_prf(average, modifier, f\"{metric.capitalize()} is\", len(result))\n",
      "D:\\Uni\\Term 4\\Machine learning\\qenv\\lib\\site-packages\\sklearn\\metrics\\_classification.py:1517: UndefinedMetricWarning: Precision is ill-defined and being set to 0.0 in labels with no predicted samples. Use `zero_division` parameter to control this behavior.\n",
      "  _warn_prf(average, modifier, f\"{metric.capitalize()} is\", len(result))\n"
     ]
    },
    {
     "name": "stdout",
     "output_type": "stream",
     "text": [
      "Gradient Boosting Accuracy: 0.6091370558375635\n",
      "              precision    recall  f1-score   support\n",
      "\n",
      "       ANGRY       0.59      0.43      0.50       185\n",
      "        FEAR       0.64      0.55      0.59        66\n",
      "       HAPPY       0.87      0.74      0.80       306\n",
      "       OTHER       0.48      0.69      0.57       267\n",
      "         SAD       0.49      0.46      0.48       161\n",
      "\n",
      "    accuracy                           0.61       985\n",
      "   macro avg       0.62      0.57      0.59       985\n",
      "weighted avg       0.63      0.61      0.61       985\n",
      "\n",
      "[[ 79   6  12  71  17]\n",
      " [  2  36   1  20   7]\n",
      " [ 13   1 226  50  16]\n",
      " [ 25   9  12 185  36]\n",
      " [ 15   4   9  59  74]]\n",
      "Decision Tree Cross-Validation Accuracy: 0.49867731418430933\n",
      "Random Forest Cross-Validation Accuracy: 0.5074126119433784\n",
      "Gradient Boosting Cross-Validation Accuracy: 0.5833888407411993\n"
     ]
    }
   ],
   "source": [
    "# Model Evaluation\n",
    "models = {'Decision Tree': dt_model, 'Random Forest': rf_model, 'Gradient Boosting': gb_model}\n",
    "for name, model in models.items():\n",
    "    y_pred = model.predict(X_test)\n",
    "    print(f\"{name} Accuracy: {accuracy_score(y_test, y_pred)}\")\n",
    "    print(classification_report(y_test, y_pred))\n",
    "    print(confusion_matrix(y_test, y_pred))\n",
    "\n",
    "# Cross-Validation\n",
    "skf = StratifiedKFold(n_splits=5)\n",
    "for name, model in models.items():\n",
    "    scores = cross_val_score(model, X, y, cv=skf, scoring='accuracy')\n",
    "    print(f\"{name} Cross-Validation Accuracy: {scores.mean()}\")\n"
   ]
  },
  {
   "cell_type": "code",
   "execution_count": 12,
   "id": "3b0de291-d754-4db5-be94-359e28e7db51",
   "metadata": {},
   "outputs": [],
   "source": [
    "\n",
    "# Final Inference\n",
    "# Load test set and make predictions\n",
    "test_df = pd.read_csv('test_data.csv')\n",
    "\n",
    "test_df['text']=test_df.iloc[:,0]\n",
    "test_df['label']=test_df.iloc[:,1]\n",
    "test_df['cleaned_text'] = test_df['text'].apply(clean_text)\n",
    "X_test_final = vectorizer.transform(test_df['cleaned_text'])\n",
    "final_predictions = rf_model.predict(X_test_final)\n",
    "\n",
    "# Save predictions\n",
    "pd.DataFrame({'text': test_df['text'], 'predicted_label': final_predictions}).to_csv('final_predictions.csv', index=False)\n"
   ]
  },
  {
   "cell_type": "code",
   "execution_count": null,
   "id": "4c64be94-0b9a-4e65-94af-807100e6474d",
   "metadata": {},
   "outputs": [],
   "source": []
  }
 ],
 "metadata": {
  "kernelspec": {
   "display_name": "qenv",
   "language": "python",
   "name": "qenv"
  },
  "language_info": {
   "codemirror_mode": {
    "name": "ipython",
    "version": 3
   },
   "file_extension": ".py",
   "mimetype": "text/x-python",
   "name": "python",
   "nbconvert_exporter": "python",
   "pygments_lexer": "ipython3",
   "version": "3.9.12"
  }
 },
 "nbformat": 4,
 "nbformat_minor": 5
}
